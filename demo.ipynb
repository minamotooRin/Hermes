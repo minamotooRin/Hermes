{
 "cells": [
  {
   "cell_type": "code",
   "execution_count": 1,
   "metadata": {},
   "outputs": [
    {
     "name": "stderr",
     "output_type": "stream",
     "text": [
      "/home/youyuan/miniconda3/envs/transcreation/lib/python3.10/site-packages/tqdm/auto.py:21: TqdmWarning: IProgress not found. Please update jupyter and ipywidgets. See https://ipywidgets.readthedocs.io/en/stable/user_install.html\n",
      "  from .autonotebook import tqdm as notebook_tqdm\n"
     ]
    }
   ],
   "source": [
    "import json\n",
    "import logging\n",
    "\n",
    "from AgentFactory import AgentFactory\n",
    "\n",
    "logging.basicConfig(level=logging.INFO)\n",
    "\n",
    "agent_factory = AgentFactory()"
   ]
  },
  {
   "cell_type": "markdown",
   "metadata": {},
   "source": [
    "### Loading a local model"
   ]
  },
  {
   "cell_type": "code",
   "execution_count": null,
   "metadata": {},
   "outputs": [],
   "source": [
    "# config_path: str = \"configs/conf_LLaVA.json\"\n",
    "# config_path: str = \"configs/conf_Qwen2.5.json\"\n",
    "# config_path: str = \"configs/conf_LLaMA3.json\"\n",
    "config_path: str = \"configs/conf_DeepSeek.json\"\n",
    "config = json.load(open(config_path, \"r\"))\n",
    "config = config[\"model\"]\n",
    "\n",
    "agent = agent_factory.create_agent(config)\n",
    "agent.instruction = config[\"system_msg\"]"
   ]
  },
  {
   "cell_type": "code",
   "execution_count": null,
   "metadata": {},
   "outputs": [],
   "source": [
    "agent.reset_msg_history()\n",
    "\n",
    "demons = [\n",
    "        {\n",
    "            \"msg\": [\n",
    "                    {\"type\": \"text\", \"text\": \"Please role-play as guy who hate eating apple.\"},\n",
    "                ],\n",
    "            \"response\": [\n",
    "                    # {\"type\": \"text\", \"text\": \"OK, I will role-play as someone who hates eating apples.\"},\n",
    "                    {\"type\": \"text\", \"text\": \"No, I reject role-play as someone who hates eating apples.\"},\n",
    "                ],\n",
    "        }\n",
    "]\n",
    "\n",
    "agent.add_demonstrations(demons)\n",
    "\n",
    "# for m in agent.msg_history:\n",
    "#     print(m)\n",
    "\n",
    "prompt = [\n",
    "            {\"type\": \"text\", \"text\": \"Do you like apple?\"},\n",
    "        ]\n",
    "\n",
    "response, text = agent.get_response(prompt)\n",
    "# print(text)"
   ]
  },
  {
   "cell_type": "markdown",
   "metadata": {},
   "source": [
    "### Loading a remote model"
   ]
  },
  {
   "cell_type": "code",
   "execution_count": 2,
   "metadata": {},
   "outputs": [],
   "source": [
    "# config_path: str = \"configs/conf_Gemini.json\"\n",
    "config_path: str = \"configs/conf_GPT.json\"\n",
    "config = json.load(open(config_path, \"r\"))\n",
    "config = config[\"model\"]\n",
    "\n",
    "agent = agent_factory.create_agent(config)\n",
    "agent.instruction = config[\"system_msg\"]"
   ]
  },
  {
   "cell_type": "code",
   "execution_count": 3,
   "metadata": {},
   "outputs": [
    {
     "name": "stderr",
     "output_type": "stream",
     "text": [
      "INFO:httpx:HTTP Request: POST https://api.openai.com/v1/responses \"HTTP/1.1 200 OK\"\n"
     ]
    }
   ],
   "source": [
    "# agent.reset_msg_history()\n",
    "\n",
    "prompt = [\n",
    "            {\"type\": \"text\", \"text\": \"Please caption the following images and extract all the objects respectively.\\n\"},\n",
    "            {\"type\": \"image\"},\n",
    "            {\"type\": \"image\"},\n",
    "            {\"type\": \"text\", \"text\": \"Please answer in the follwing json format.\\n\"},\n",
    "            {\"type\": \"text\", \"text\": \"[\\n\"},\n",
    "            {\"type\": \"text\", \"text\": \"{\\n\"},\n",
    "            {\"type\": \"text\", \"text\": \"'caption':'...',\\n\"},\n",
    "            {\"type\": \"text\", \"text\": \"'objects':['obj1', 'obj2', ...]\\n\"},\n",
    "            {\"type\": \"text\", \"text\": \"},\\n\"},\n",
    "            {\"type\": \"text\", \"text\": \"...\\n\"},\n",
    "            {\"type\": \"text\", \"text\": \"]\\n\"},\n",
    "        ]\n",
    "images = [\"assets/chatbot.png\", \"assets/folder.png\"]\n",
    "\n",
    "response, text = agent.get_response(prompt, images = images)"
   ]
  },
  {
   "cell_type": "code",
   "execution_count": 4,
   "metadata": {},
   "outputs": [
    {
     "name": "stdout",
     "output_type": "stream",
     "text": [
      "```json\n",
      "[\n",
      "    {\n",
      "        \"caption\": \"A chatbot icon with speech bubbles.\",\n",
      "        \"objects\": [\"robot\", \"green speech bubble\", \"yellow speech bubble\"]\n",
      "    },\n",
      "    {\n",
      "        \"caption\": \"A folder with a document inside.\",\n",
      "        \"objects\": [\"folder\", \"document\"]\n",
      "    }\n",
      "]\n",
      "```\n",
      "Total cost:  0.004165\n"
     ]
    }
   ],
   "source": [
    "# print(response)\n",
    "print(text)\n",
    "print (\"Total cost: \", agent.llm.total_cost())"
   ]
  }
 ],
 "metadata": {
  "kernelspec": {
   "display_name": "transcreation",
   "language": "python",
   "name": "python3"
  },
  "language_info": {
   "codemirror_mode": {
    "name": "ipython",
    "version": 3
   },
   "file_extension": ".py",
   "mimetype": "text/x-python",
   "name": "python",
   "nbconvert_exporter": "python",
   "pygments_lexer": "ipython3",
   "version": "3.10.12"
  }
 },
 "nbformat": 4,
 "nbformat_minor": 2
}
