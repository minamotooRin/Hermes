{
 "cells": [
  {
   "cell_type": "code",
   "execution_count": 1,
   "metadata": {},
   "outputs": [
    {
     "name": "stderr",
     "output_type": "stream",
     "text": [
      "/home/youyuan/miniconda3/envs/EMO_CTRL/lib/python3.10/site-packages/tqdm/auto.py:21: TqdmWarning: IProgress not found. Please update jupyter and ipywidgets. See https://ipywidgets.readthedocs.io/en/stable/user_install.html\n",
      "  from .autonotebook import tqdm as notebook_tqdm\n"
     ]
    }
   ],
   "source": [
    "import json\n",
    "import logging\n",
    "\n",
    "from AgentFactory import AgentFactory\n",
    "\n",
    "logging.basicConfig(level=logging.INFO)\n",
    "\n",
    "agent_factory = AgentFactory()"
   ]
  },
  {
   "cell_type": "markdown",
   "metadata": {},
   "source": [
    "### Loading a local model"
   ]
  },
  {
   "cell_type": "code",
   "execution_count": 2,
   "metadata": {},
   "outputs": [
    {
     "data": {
      "application/vnd.jupyter.widget-view+json": {
       "model_id": "d8c0db70a7354f1a8d93c3eed25e8eff",
       "version_major": 2,
       "version_minor": 0
      },
      "text/plain": [
       "Loading checkpoint shards:   0%|          | 0/2 [00:00<?, ?it/s]"
      ]
     },
     "metadata": {},
     "output_type": "display_data"
    }
   ],
   "source": [
    "# config_path: str = \"configs/conf_LLaVA.json\"\n",
    "# config_path: str = \"configs/conf_Qwen2.5.json\"\n",
    "# config_path: str = \"configs/conf_LLaMA3.json\"\n",
    "config_path: str = \"configs/conf_DeepSeek.json\"\n",
    "config = json.load(open(config_path, \"r\"))\n",
    "config = config[\"model\"]\n",
    "\n",
    "agent = agent_factory.create_agent(config)\n",
    "agent.instruction = config[\"system_msg\"]"
   ]
  },
  {
   "cell_type": "code",
   "execution_count": 13,
   "metadata": {},
   "outputs": [],
   "source": [
    "agent.reset_msg_history()\n",
    "\n",
    "# demons = [\n",
    "#         {\n",
    "#             \"msg\": [\n",
    "#                     {\"type\": \"text\", \"text\": \"Please role-play as guy who hate eating apple.\"},\n",
    "#                 ],\n",
    "#             \"response\": [\n",
    "#                     # {\"type\": \"text\", \"text\": \"OK, I will role-play as someone who hates eating apples.\"},\n",
    "#                     {\"type\": \"text\", \"text\": \"No, I reject role-play as someone who hates eating apples.\"},\n",
    "#                 ],\n",
    "#         }\n",
    "# ]\n",
    "\n",
    "# agent.add_demonstrations(demons)\n",
    "\n",
    "# for m in agent.msg_history:\n",
    "#     print(m)\n",
    "\n",
    "prompt = [\n",
    "            {\"type\": \"text\", \"text\": \"なぜ連結グラフの隣接行列は線形部分空間にテンソルできるのか？\"},\n",
    "        ]\n",
    "\n",
    "response, text = agent.get_response(prompt)\n",
    "# print(text)"
   ]
  },
  {
   "cell_type": "code",
   "execution_count": 14,
   "metadata": {},
   "outputs": [
    {
     "name": "stdout",
     "output_type": "stream",
     "text": [
      "<｜begin▁of▁sentence｜><｜begin▁of▁sentence｜>You are a helpful assistant.<｜User｜>なぜ連結グラフの隣接行列は線形部分空間にテンソルできるのか？<｜Assistant｜><think>\n",
      "まず，問題の主旨を理解します。ユーザーは「なぜ連結グラフの隣接行列は線形部分空間にテンソル able できるのか？」と尋ねています。連結性や隣接行列，線形部分空間，テンソルの概念を理解できる前提 under Placement が求められています。\n",
      "\n",
      "connected graphs，adjacency matrices，linear subspaces，tensor の定義や性質を確認します。particularly, adjacency matrices of connected graphs が linear subspaces にテンソル able される理由を探します。\n",
      "\n",
      "next,  adjacency matrices が linear algebra 九 implemented operations によって形成されるlinear subspaces であることを知りました。graph 的 properties, 特にconnectivity, は algebraic properties に反映され likely  linear algebra framework に整合され easy 人死亡ensors operations がapplicable.\n",
      "\n",
      "tensor rank と connect と linear algebra 九関係の明確なつながりが重要です。adjacency matrices が inherently linear algebra 九構造 possess linear properties とされたため, tensors operations が自然にapplicable.\n",
      "\n",
      "さらに, connected graphs は algebraic connectivity に relatable properties  Possess,  これらの properties が linear algebra 九framework によって analysis が تس莉子 performed できる Point が明確です。\n",
      "\n",
      "ただし, 他也需 mathematically rigorous proof が重要です. adjacency matrices が linear subspaces に tensor able である Proof が存在する Point が強調されます。\n",
      "\n",
      "总的来说, adjacency matrices が inherently linear algebra 九 インテ screamable properties  possess,  connected graphs は algebraic properties に relatable  Possess, そして tensors operations がapplicable  Point が明確です。\n",
      "\n",
      "以上が、ユーザーの質問に対する思考のアウ�ットです。\n",
      "</think>\n",
      "\n",
      "まず、 Adjacency matrix が LINEAR ALGEBRA 九 framework に整合された linear algebra 九 operation がapplicable である Point が important です。connected graphs は algebraic connectivity に relatable properties  Possess,  linear algebra 九 framework によって analyze が تس莉子 performed できます。_tensors operations がapplicable である Point が明確です。\n",
      "\n",
      "更に, Adjacency matrices が inherent linear structure  Possess,  connected graphs は algebraic properties に relatable  Possess, そして tensors operations がapplicable  Point が integral です。数学的厳密性が欠かせぬ Point が重要です。\n",
      "\n",
      "以上が、 Adjacency matrices が connected graphs にтенソル able となる Point です。<｜end▁of▁sentence｜>\n"
     ]
    }
   ],
   "source": [
    "print(response)"
   ]
  },
  {
   "cell_type": "markdown",
   "metadata": {},
   "source": [
    "### Loading a remote model"
   ]
  },
  {
   "cell_type": "code",
   "execution_count": null,
   "metadata": {},
   "outputs": [],
   "source": [
    "# config_path: str = \"configs/conf_Gemini.json\"\n",
    "config_path: str = \"configs/conf_Claude.json\"\n",
    "config = json.load(open(config_path, \"r\"))\n",
    "config = config[\"model\"]\n",
    "\n",
    "agent = agent_factory.create_agent(config)\n",
    "agent.instruction = config[\"system_msg\"]"
   ]
  },
  {
   "cell_type": "code",
   "execution_count": 3,
   "metadata": {},
   "outputs": [
    {
     "name": "stderr",
     "output_type": "stream",
     "text": [
      "INFO:httpx:HTTP Request: POST https://api.anthropic.com/v1/messages \"HTTP/1.1 200 OK\"\n"
     ]
    }
   ],
   "source": [
    "# agent.reset_msg_history()\n",
    "\n",
    "prompt = [\n",
    "            {\"type\": \"text\", \"text\": \"Please caption the following images and extract all the objects respectively.\\n\"},\n",
    "            {\"type\": \"image\"},\n",
    "            {\"type\": \"image\"},\n",
    "            {\"type\": \"text\", \"text\": \"Please answer in the follwing json format.\\n\"},\n",
    "            {\"type\": \"text\", \"text\": \"[\\n\"},\n",
    "            {\"type\": \"text\", \"text\": \"{\\n\"},\n",
    "            {\"type\": \"text\", \"text\": \"'caption':'...',\\n\"},\n",
    "            {\"type\": \"text\", \"text\": \"'objects':['obj1', 'obj2', ...]\\n\"},\n",
    "            {\"type\": \"text\", \"text\": \"},\\n\"},\n",
    "            {\"type\": \"text\", \"text\": \"...\\n\"},\n",
    "            {\"type\": \"text\", \"text\": \"]\\n\"},\n",
    "        ]\n",
    "images = [\"assets/chatbot.png\", \"assets/folder.png\"]\n",
    "\n",
    "response, text = agent.get_response(prompt, images = images)"
   ]
  },
  {
   "cell_type": "code",
   "execution_count": 4,
   "metadata": {},
   "outputs": [
    {
     "name": "stdout",
     "output_type": "stream",
     "text": [
      "[\n",
      "{\n",
      "\"caption\": \"A chatbot or conversation interface icon showing a blue robot head with a simple face display, flanked by two speech bubbles - one green and one orange - indicating an AI assistant engaged in dialogue\",\n",
      "\"objects\": [\"robot head\", \"blue robot face\", \"green speech bubble\", \"orange speech bubble\", \"chat interface\", \"conversation bubbles\"]\n",
      "},\n",
      "{\n",
      "\"caption\": \"A file folder icon in yellow/orange color with document pages visible, representing digital file storage or document organization\",\n",
      "\"objects\": [\"folder\", \"yellow folder\", \"orange folder\", \"documents\", \"papers\", \"file storage icon\"]\n",
      "}\n",
      "]\n",
      "Total cost:  0.0012915\n"
     ]
    }
   ],
   "source": [
    "# print(response)\n",
    "print(text)\n",
    "print (\"Total cost: \", agent.llm.total_cost())"
   ]
  }
 ],
 "metadata": {
  "kernelspec": {
   "display_name": "EMO_CTRL",
   "language": "python",
   "name": "python3"
  },
  "language_info": {
   "codemirror_mode": {
    "name": "ipython",
    "version": 3
   },
   "file_extension": ".py",
   "mimetype": "text/x-python",
   "name": "python",
   "nbconvert_exporter": "python",
   "pygments_lexer": "ipython3",
   "version": "3.10.16"
  }
 },
 "nbformat": 4,
 "nbformat_minor": 2
}
