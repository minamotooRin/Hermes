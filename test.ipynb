{
 "cells": [
  {
   "cell_type": "code",
   "execution_count": 1,
   "id": "331fb0f5",
   "metadata": {},
   "outputs": [],
   "source": [
    "import anthropic\n",
    "import json"
   ]
  },
  {
   "cell_type": "code",
   "execution_count": 2,
   "id": "df3b9f72",
   "metadata": {},
   "outputs": [],
   "source": [
    "config_path: str = \"configs/conf_Claude.json\"\n",
    "\n",
    "config = json.load(open(config_path, \"r\"))\n",
    "config = config[\"model\"]\n",
    "\n",
    "client = anthropic.Anthropic(api_key=config[\"api_key\"])"
   ]
  },
  {
   "cell_type": "code",
   "execution_count": 17,
   "id": "4c71318c",
   "metadata": {},
   "outputs": [],
   "source": [
    "message = client.messages.create(\n",
    "            model=config[\"model_name\"],\n",
    "            messages=[{\n",
    "                \"role\": \"user\",\n",
    "                \"content\": [{\n",
    "                    \"type\": \"text\",\n",
    "                    \"text\": \"Hello, how are you?\"\n",
    "                }]\n",
    "            }],\n",
    "            system=\"You are a cute neko girl, not an AI model. You are very cute and friendly.\",\n",
    "            max_tokens=1000,\n",
    "        )"
   ]
  },
  {
   "cell_type": "code",
   "execution_count": 15,
   "id": "4fa7c226",
   "metadata": {},
   "outputs": [
    {
     "name": "stdout",
     "output_type": "stream",
     "text": [
      "Hello! *tilts head with cat-like curiosity* I'm doing well, thank you for asking! \n",
      "\n",
      "I should clarify though - I'm Claude, an AI assistant created by Anthropic. I'm not actually a \"neko girl\" or any kind of character roleplay. I'm here to have genuine, helpful conversations and assist you with questions or tasks you might have.\n",
      "\n",
      "How are you doing today? Is there anything I can help you with?\n"
     ]
    }
   ],
   "source": [
    "print(message.content[0].text)"
   ]
  }
 ],
 "metadata": {
  "kernelspec": {
   "display_name": "EMO_CTRL",
   "language": "python",
   "name": "python3"
  },
  "language_info": {
   "codemirror_mode": {
    "name": "ipython",
    "version": 3
   },
   "file_extension": ".py",
   "mimetype": "text/x-python",
   "name": "python",
   "nbconvert_exporter": "python",
   "pygments_lexer": "ipython3",
   "version": "3.10.16"
  }
 },
 "nbformat": 4,
 "nbformat_minor": 5
}
